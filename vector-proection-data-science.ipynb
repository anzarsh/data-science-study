{
 "cells": [
  {
   "cell_type": "markdown",
   "metadata": {},
   "source": [
    "# Разбор примера из A.7.3 Проекции векторов.\n",
    "\n",
    "В это блоке мы создаем 2 вектора, компоненты одного больше другого в *real_koef* раз и к каждому компоненту вектора добавлены случайные величины\n",
    "\n",
    "r - вектор инвистиций в рекламу\n",
    "\n",
    "p - вектор профитов"
   ]
  },
  {
   "cell_type": "code",
   "execution_count": 1,
   "metadata": {},
   "outputs": [],
   "source": [
    "import random\n",
    "import numpy as np\n",
    "\n",
    "# коэффициент на который отличаются вектора - это то что по сути мы и ищем\n",
    "real_koef = 3\n",
    "init_random_range = 30\n",
    "random_range = init_random_range / 10 # случайные отклонения составляют +/- 10%\n",
    "\n",
    "# изначальный вектор от которого отталкиваемся\n",
    "init = np.array([random.uniform(-init_random_range, init_random_range) for i in range(10000)])\n",
    "\n",
    "# добавляем векторам некоторые случайные значения\n",
    "r = np.array([(k + random.uniform(-random_range, random_range)) for k in init])\n",
    "p = np.array([(k + random.uniform(-random_range, random_range)) * real_koef for k in init])\n",
    "# print(init)\n",
    "# print(r)\n",
    "# print(p)"
   ]
  },
  {
   "cell_type": "markdown",
   "metadata": {},
   "source": [
    "### Коэффициент k3 (среднее двух проекций) ближе к коэффициенту real_koef\n",
    "\n",
    "В данном блоке вычисляем коэффиценты проекций одного вектора на другой и так же среднее обоих коэффициентов\n",
    "\n",
    "$\\displaystyle{k_1 = \\frac{\\langle \\overrightarrow{r}, \\overrightarrow{p} \\rangle}{\\langle \\overrightarrow{r}, \\overrightarrow{r} \\rangle}}$\n",
    "\n",
    "$\\displaystyle{k_2 = \\frac{\\langle \\overrightarrow{r}, \\overrightarrow{p} \\rangle}{\\langle \\overrightarrow{p}, \\overrightarrow{p} \\rangle}}$\n",
    "\n",
    "$\\displaystyle{k_3 = \\frac{k_1 + \\frac{1}{k_2}}{2}}$ - формула Жуковского в действительной области;)"
   ]
  },
  {
   "cell_type": "code",
   "execution_count": 2,
   "metadata": {
    "scrolled": true
   },
   "outputs": [
    {
     "name": "stdout",
     "output_type": "stream",
     "text": [
      "2.968392945378817 0.03160705462118285\n",
      "3.029571158741208 0.02957115874120797 0.3300797200668829\n",
      "2.9989820520600126 0.0010179479399874403\n"
     ]
    }
   ],
   "source": [
    "k1 = np.dot(r, p) / np.dot(r, r)\n",
    "k2 = np.dot(r, p) / np.dot(p, p)\n",
    "k3 = (k1 + (1 / k2)) / 2\n",
    "print(k1, abs(real_koef - k1))\n",
    "print(1 / k2, abs(real_koef - 1 / k2), k2)\n",
    "print(k3, abs(real_koef - k3)) # в среднем k3 ближе к изначально заложенному коэффициенту"
   ]
  },
  {
   "cell_type": "markdown",
   "metadata": {},
   "source": [
    "Модельные профиты $\\hat{p}$"
   ]
  },
  {
   "cell_type": "code",
   "execution_count": 3,
   "metadata": {},
   "outputs": [],
   "source": [
    "p_1 = r * k1\n",
    "p_2 = r / k2\n",
    "p_3 = r * k3\n",
    "# print(p_1)\n",
    "# print(p_2)\n",
    "# print(p_3)"
   ]
  },
  {
   "cell_type": "markdown",
   "metadata": {},
   "source": [
    "### Не смотря на то что k3 ближе к изначальному коэффициенту, k1 описывает зависимость лучше\n",
    "\n",
    "$\\displaystyle{d = 1 - \\frac{\\sum_i (p_i - \\hat{p}_i)^2}{\\sum_i p_i^2}}$"
   ]
  },
  {
   "cell_type": "code",
   "execution_count": 4,
   "metadata": {
    "scrolled": true
   },
   "outputs": [
    {
     "name": "stdout",
     "output_type": "stream",
     "text": [
      "0.9798063124591496\n",
      "0.9793901230436375\n",
      "0.9797022651052716\n"
     ]
    }
   ],
   "source": [
    "deltaP_1 = p_1 - p\n",
    "deltaP_2 = p_2 - p\n",
    "deltaP_3 = p_3 - p\n",
    "d_1 = 1 - (np.dot(deltaP_1, deltaP_1) / np.dot(p, p))\n",
    "d_2 = 1 - (np.dot(deltaP_2, deltaP_2) / np.dot(p, p))\n",
    "d_3 = 1 - (np.dot(deltaP_3, deltaP_3) / np.dot(p, p))\n",
    "\n",
    "print(d_1)\n",
    "print(d_2)\n",
    "print(d_3) # d_3 менее точен, чем d_1"
   ]
  },
  {
   "cell_type": "markdown",
   "metadata": {},
   "source": [
    "### Если сравнить длины векторов, то длина с коэффициентом k3 ближе к длине реального вектора профитов\n",
    "\n",
    "$\\displaystyle{d = \\frac{\\sqrt{\\sum_i \\hat{p}_i^2}}{\\sqrt{\\sum_i p_i^2}}}$"
   ]
  },
  {
   "cell_type": "code",
   "execution_count": 5,
   "metadata": {
    "scrolled": false
   },
   "outputs": [
    {
     "name": "stdout",
     "output_type": "stream",
     "text": [
      "0.9898516618459304\n",
      "1.0102523828016257\n",
      "1.000052022323778\n"
     ]
    }
   ],
   "source": [
    "d_1 = (np.dot(p_1, p_1) ** 0.5 / np.dot(p, p) ** 0.5)\n",
    "d_2 = (np.dot(p_2, p_2) ** 0.5 / np.dot(p, p) ** 0.5)\n",
    "d_3 = (np.dot(p_3, p_3) ** 0.5 / np.dot(p, p) ** 0.5)\n",
    "\n",
    "print(d_1)\n",
    "print(d_2)\n",
    "print(d_3)"
   ]
  }
 ],
 "metadata": {
  "kernelspec": {
   "display_name": "Python 3",
   "language": "python",
   "name": "python3"
  },
  "language_info": {
   "codemirror_mode": {
    "name": "ipython",
    "version": 3
   },
   "file_extension": ".py",
   "mimetype": "text/x-python",
   "name": "python",
   "nbconvert_exporter": "python",
   "pygments_lexer": "ipython3",
   "version": "3.8.5"
  }
 },
 "nbformat": 4,
 "nbformat_minor": 4
}
